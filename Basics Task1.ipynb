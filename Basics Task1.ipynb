{
 "cells": [
  {
   "cell_type": "markdown",
   "id": "83ea2509-e951-4d92-af98-6511df22f0e3",
   "metadata": {},
   "source": [
    "Task 1"
   ]
  },
  {
   "cell_type": "markdown",
   "id": "a2847966-31e0-4214-9c99-39b12d8b02de",
   "metadata": {},
   "source": [
    "Numbers"
   ]
  },
  {
   "cell_type": "code",
   "execution_count": 2,
   "id": "c54b2f32-9f9a-444c-af73-ef534c00ef73",
   "metadata": {},
   "outputs": [
    {
     "data": {
      "text/plain": [
       "300"
      ]
     },
     "execution_count": 2,
     "metadata": {},
     "output_type": "execute_result"
    }
   ],
   "source": [
    "100+200\n"
   ]
  },
  {
   "cell_type": "code",
   "execution_count": 4,
   "id": "18a32ec8-f9b1-4e1a-9002-ab283fdc2fbe",
   "metadata": {},
   "outputs": [
    {
     "data": {
      "text/plain": [
       "300"
      ]
     },
     "execution_count": 4,
     "metadata": {},
     "output_type": "execute_result"
    }
   ],
   "source": [
    "500-200"
   ]
  },
  {
   "cell_type": "code",
   "execution_count": 6,
   "id": "ef4a6e5f-e7ac-4066-b821-417db1199367",
   "metadata": {},
   "outputs": [
    {
     "data": {
      "text/plain": [
       "250.0"
      ]
     },
     "execution_count": 6,
     "metadata": {},
     "output_type": "execute_result"
    }
   ],
   "source": [
    "500/2"
   ]
  },
  {
   "cell_type": "code",
   "execution_count": 21,
   "id": "370354ff-e275-4e0a-8bed-464eb3938519",
   "metadata": {},
   "outputs": [
    {
     "data": {
      "text/plain": [
       "250"
      ]
     },
     "execution_count": 21,
     "metadata": {},
     "output_type": "execute_result"
    }
   ],
   "source": [
    "500//2"
   ]
  },
  {
   "cell_type": "code",
   "execution_count": 8,
   "id": "b9201ead-2ddf-471e-ac99-6ff529e7dbe1",
   "metadata": {},
   "outputs": [
    {
     "data": {
      "text/plain": [
       "600"
      ]
     },
     "execution_count": 8,
     "metadata": {},
     "output_type": "execute_result"
    }
   ],
   "source": [
    "300*2"
   ]
  },
  {
   "cell_type": "code",
   "execution_count": 15,
   "id": "4ee5ae37-8000-4461-bbb5-58e03c087daf",
   "metadata": {},
   "outputs": [
    {
     "data": {
      "text/plain": [
       "256"
      ]
     },
     "execution_count": 15,
     "metadata": {},
     "output_type": "execute_result"
    }
   ],
   "source": [
    "2**8\n"
   ]
  },
  {
   "cell_type": "code",
   "execution_count": 19,
   "id": "6f549d13-fac8-4371-a1f2-dad99c326249",
   "metadata": {},
   "outputs": [
    {
     "data": {
      "text/plain": [
       "4"
      ]
     },
     "execution_count": 19,
     "metadata": {},
     "output_type": "execute_result"
    }
   ],
   "source": [
    "2**2"
   ]
  },
  {
   "cell_type": "markdown",
   "id": "92dadcdb-1e61-4e65-90f6-26c8a8487522",
   "metadata": {},
   "source": [
    "string"
   ]
  },
  {
   "cell_type": "code",
   "execution_count": 23,
   "id": "e39c1b58-e98c-41cf-887a-653281689cb6",
   "metadata": {},
   "outputs": [
    {
     "data": {
      "text/plain": [
       "'Jayden'"
      ]
     },
     "execution_count": 23,
     "metadata": {},
     "output_type": "execute_result"
    }
   ],
   "source": [
    "'Jayden'"
   ]
  },
  {
   "cell_type": "code",
   "execution_count": 25,
   "id": "7b2a392b-cd86-4d48-97da-d3858c0cffb9",
   "metadata": {},
   "outputs": [
    {
     "data": {
      "text/plain": [
       "'Jayden'"
      ]
     },
     "execution_count": 25,
     "metadata": {},
     "output_type": "execute_result"
    }
   ],
   "source": [
    "\"Jayden\""
   ]
  },
  {
   "cell_type": "code",
   "execution_count": 27,
   "id": "27015945-5ce8-4161-9637-3fcde83399e9",
   "metadata": {},
   "outputs": [
    {
     "data": {
      "text/plain": [
       "\"'Jayden'\""
      ]
     },
     "execution_count": 27,
     "metadata": {},
     "output_type": "execute_result"
    }
   ],
   "source": [
    "\"'Jayden'\""
   ]
  },
  {
   "cell_type": "markdown",
   "id": "1eb08f05-2e88-412f-b311-b4fbcf2113df",
   "metadata": {},
   "source": [
    "Variable"
   ]
  },
  {
   "cell_type": "code",
   "execution_count": 29,
   "id": "3f862856-7f62-4b66-bdc9-7bcc5344e4f5",
   "metadata": {},
   "outputs": [],
   "source": [
    "Name = \"Ravitej\" #string"
   ]
  },
  {
   "cell_type": "code",
   "execution_count": 32,
   "id": "7ba6b46c-1e00-45ad-b3df-9fcf6430098e",
   "metadata": {},
   "outputs": [
    {
     "data": {
      "text/plain": [
       "'Ravitej'"
      ]
     },
     "execution_count": 32,
     "metadata": {},
     "output_type": "execute_result"
    }
   ],
   "source": [
    "Name"
   ]
  },
  {
   "cell_type": "code",
   "execution_count": 52,
   "id": "3601a6f8-68ed-4e6e-9014-83311e306372",
   "metadata": {},
   "outputs": [],
   "source": [
    "Phonenumber= 38216217 #int"
   ]
  },
  {
   "cell_type": "code",
   "execution_count": 56,
   "id": "5c08ac4b-c450-4cd4-99da-63faa7da7e0d",
   "metadata": {},
   "outputs": [
    {
     "name": "stdout",
     "output_type": "stream",
     "text": [
      "38216217\n"
     ]
    }
   ],
   "source": [
    "print(Phonenumber)"
   ]
  },
  {
   "cell_type": "code",
   "execution_count": 70,
   "id": "ae14ef8b-f5d4-40c8-9bb6-c88943f21dd6",
   "metadata": {},
   "outputs": [
    {
     "ename": "NameError",
     "evalue": "name 'name' is not defined",
     "output_type": "error",
     "traceback": [
      "\u001b[0;31m---------------------------------------------------------------------------\u001b[0m",
      "\u001b[0;31mNameError\u001b[0m                                 Traceback (most recent call last)",
      "Cell \u001b[0;32mIn[70], line 1\u001b[0m\n\u001b[0;32m----> 1\u001b[0m \u001b[38;5;28mprint\u001b[39m (name)\n\u001b[1;32m      2\u001b[0m \u001b[38;5;28mprint\u001b[39m(Phonenumber)\n",
      "\u001b[0;31mNameError\u001b[0m: name 'name' is not defined"
     ]
    }
   ],
   "source": [
    "print (name)\n",
    "print(Phonenumber)"
   ]
  },
  {
   "cell_type": "code",
   "execution_count": 72,
   "id": "34f366cd-0111-41ea-b904-90486a4a6925",
   "metadata": {},
   "outputs": [
    {
     "name": "stdout",
     "output_type": "stream",
     "text": [
      "Ravitej\n",
      "38216217\n"
     ]
    }
   ],
   "source": [
    "print (Name)\n",
    "print(Phonenumber)"
   ]
  },
  {
   "cell_type": "code",
   "execution_count": null,
   "id": "1d19ec2e-ddd4-4649-9502-e14f3d4c70fe",
   "metadata": {},
   "outputs": [],
   "source": []
  },
  {
   "cell_type": "code",
   "execution_count": null,
   "id": "f0193763-cae2-46ad-ad47-04aa0660fd78",
   "metadata": {},
   "outputs": [],
   "source": []
  },
  {
   "cell_type": "code",
   "execution_count": null,
   "id": "531c4704-8745-4b31-8691-c9177ed4a134",
   "metadata": {},
   "outputs": [],
   "source": []
  },
  {
   "cell_type": "code",
   "execution_count": null,
   "id": "17aecb36-603b-4929-ae05-efa220a0a7dc",
   "metadata": {},
   "outputs": [],
   "source": []
  },
  {
   "cell_type": "code",
   "execution_count": null,
   "id": "78dfd7e6-b366-4e61-bf7a-97ee16baa38e",
   "metadata": {},
   "outputs": [],
   "source": []
  }
 ],
 "metadata": {
  "kernelspec": {
   "display_name": "Python [conda env:base] *",
   "language": "python",
   "name": "conda-base-py"
  },
  "language_info": {
   "codemirror_mode": {
    "name": "ipython",
    "version": 3
   },
   "file_extension": ".py",
   "mimetype": "text/x-python",
   "name": "python",
   "nbconvert_exporter": "python",
   "pygments_lexer": "ipython3",
   "version": "3.12.7"
  }
 },
 "nbformat": 4,
 "nbformat_minor": 5
}
